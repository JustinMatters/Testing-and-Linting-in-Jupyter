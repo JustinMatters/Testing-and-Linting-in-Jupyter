{
 "cells": [
  {
   "cell_type": "markdown",
   "metadata": {},
   "source": [
    "# Testing and Linting in Jupyter\n",
    "\n",
    "One objection many people have to Jupyter is the difficulty of producing clean code in it. Lets look at a few approaches to testing and linting Python code in Jupyter"
   ]
  },
  {
   "cell_type": "code",
   "execution_count": 1,
   "metadata": {},
   "outputs": [
    {
     "name": "stdout",
     "output_type": "stream",
     "text": [
      "5\n",
      "7\n"
     ]
    }
   ],
   "source": [
    "# here is some really awful code with errors\n",
    "\n",
    "class BadCalculator:\n",
    "    \n",
    "    def __init__ (self, num1, num2):\n",
    "        self.number_one = num1\n",
    "        self.number_two = num2\n",
    "        \n",
    "    def add(self):\n",
    "        # maths is correct test will pass\n",
    "        answer = self.number_one + self.number_two\n",
    "        return answer\n",
    "    \n",
    "    def multiply(self):\n",
    "        # note maths error - test will fail\n",
    "        answer = self.number_one * self.number_two +1\n",
    "        return answer\n",
    "    \n",
    "calc = BadCalculator(2,3)    \n",
    "print(calc.add())\n",
    "print(calc.multiply())"
   ]
  },
  {
   "cell_type": "markdown",
   "metadata": {},
   "source": [
    "## Implementing unittest within Jupyter\n",
    "\n",
    "Tests using <b>unittest</b> can be written as usual, but note that they need to be called with their first argument ignored"
   ]
  },
  {
   "cell_type": "code",
   "execution_count": 2,
   "metadata": {},
   "outputs": [
    {
     "name": "stderr",
     "output_type": "stream",
     "text": [
      "testAdd (__main__.TestBadCalculator)\n",
      "Checks the addition module ... ok\n",
      "testMultiply (__main__.TestBadCalculator)\n",
      "Checks the multiplication module ... FAIL\n",
      "\n",
      "======================================================================\n",
      "FAIL: testMultiply (__main__.TestBadCalculator)\n",
      "Checks the multiplication module\n",
      "----------------------------------------------------------------------\n",
      "Traceback (most recent call last):\n",
      "  File \"<ipython-input-2-b73c5595837c>\", line 18, in testMultiply\n",
      "    self.assertEqual(testCalc.multiply(), 9)\n",
      "AssertionError: 10 != 9\n",
      "\n",
      "----------------------------------------------------------------------\n",
      "Ran 2 tests in 0.002s\n",
      "\n",
      "FAILED (failures=1)\n"
     ]
    }
   ],
   "source": [
    "# we import unnittest as usual\n",
    "import unittest\n",
    "\n",
    "# and even write our tests in the conventional fashion\n",
    "class TestBadCalculator(unittest.TestCase):\n",
    "    '''Testing example for the badcalculator class'''\n",
    "    \n",
    "    def testAdd(self):\n",
    "        ''' Checks the addition module'''\n",
    "        # add maths is correct test will pass\n",
    "        testCalc = BadCalculator(3,3)\n",
    "        self.assertEqual(testCalc.add(),6)\n",
    "        \n",
    "    def testMultiply(self):\n",
    "        ''' Checks the multiplication module'''\n",
    "        # multiply maths is incorrect test will fail\n",
    "        testCalc = BadCalculator(3,3)\n",
    "        self.assertEqual(testCalc.multiply(), 9)\n",
    "        \n",
    "# note the change to how unittest needs to be called to work inside Jupyter\n",
    "if __name__ == '__main__':\n",
    "    unittest.main(argv=['first-arg-is-ignored'], verbosity = 2, exit=False)"
   ]
  },
  {
   "cell_type": "markdown",
   "metadata": {},
   "source": [
    "## Using doctest inside Jupyter\n",
    "\n",
    "<b>doctest</b> can also be used within Jupyter, this is even easier and needs essentially no modification:"
   ]
  },
  {
   "cell_type": "code",
   "execution_count": 3,
   "metadata": {},
   "outputs": [
    {
     "name": "stdout",
     "output_type": "stream",
     "text": [
      "5\n",
      "7\n"
     ]
    }
   ],
   "source": [
    "# here is a second really awful calculator to demonstrate doctest\n",
    "\n",
    "class OtherCalculator:\n",
    "    \n",
    "    def __init__ (self, num1, num2):\n",
    "        self.number_one = num1\n",
    "        self.number_two = num2\n",
    "        \n",
    "    def add(self):\n",
    "        '''Returns the sum of the two numbers of the OtherCalculator item \n",
    "        \n",
    "        >>> check = OtherCalculator(3,3)\n",
    "        >>> check.add()\n",
    "        6\n",
    "        '''\n",
    "        # maths is correct test will pass\n",
    "        answer = self.number_one + self.number_two\n",
    "        return answer\n",
    "    \n",
    "    def multiply(self):\n",
    "        '''Returns the sum of the two numbers of the OtherCalculator item \n",
    "        \n",
    "        >>> check = OtherCalculator(3,3)\n",
    "        >>> check.multiply()\n",
    "        9\n",
    "        '''\n",
    "        # note maths error - test will fail\n",
    "        answer = self.number_one * self.number_two +1\n",
    "        return answer\n",
    "    \n",
    "other_calc = OtherCalculator(2,3)    \n",
    "print(calc.add())\n",
    "print(calc.multiply())"
   ]
  },
  {
   "cell_type": "code",
   "execution_count": 4,
   "metadata": {},
   "outputs": [
    {
     "name": "stdout",
     "output_type": "stream",
     "text": [
      "**********************************************************************\n",
      "File \"__main__\", line 24, in __main__.OtherCalculator.multiply\n",
      "Failed example:\n",
      "    check.multiply()\n",
      "Expected:\n",
      "    9\n",
      "Got:\n",
      "    10\n",
      "**********************************************************************\n",
      "1 items had failures:\n",
      "   1 of   2 in __main__.OtherCalculator.multiply\n",
      "***Test Failed*** 1 failures.\n"
     ]
    }
   ],
   "source": [
    "# and here is the doctest code to check it\n",
    "import doctest\n",
    "\n",
    "if __name__ == '__main__':\n",
    "    doctest.testmod()"
   ]
  },
  {
   "cell_type": "markdown",
   "metadata": {},
   "source": [
    "## Linting from Within Jupyter\n",
    "\n",
    "the standard linters (pylint and pyflakes) cannot lint iPython notebooks. However there is a linter called <b>nblint</b> which can. While not currently available via conda install, it is easily installed via pip:\n",
    "\n",
    "<i>pip install nblint</i>\n",
    "\n",
    "Once you have installed nblint, search for its location (eg using Windows Explorer to seach for \"nblint\" on Windows machines) and note its location. The linter can then be run  direct from your Jupyter notebook using the %run command followed by the full path to nblint (remembering to substitute forward slashes for Windows backslashes in the path) and the name of the file to be linted (and its path if it is not in the current working directory from Jupyter's point of view)."
   ]
  },
  {
   "cell_type": "code",
   "execution_count": 17,
   "metadata": {},
   "outputs": [
    {
     "name": "stdout",
     "output_type": "stream",
     "text": [
      "Code Cell 0 that starts with '# here is some really awful code with errors' has the following                       errors\n",
      " tmp.py:3:1: E302 expected 2 blank lines, found 1\n",
      "tmp.py:4:1: W293 blank line contains whitespace\n",
      "tmp.py:5:17: E211 whitespace before '('\n",
      "tmp.py:8:1: W293 blank line contains whitespace\n",
      "tmp.py:13:1: W293 blank line contains whitespace\n",
      "tmp.py:16:53: E225 missing whitespace around operator\n",
      "tmp.py:18:1: W293 blank line contains whitespace\n",
      "tmp.py:19:1: E305 expected 2 blank lines after class or function definition, found 1\n",
      "tmp.py:19:23: E231 missing whitespace after ','\n",
      "tmp.py:19:26: W291 trailing whitespace\n",
      "\n",
      "Code Cell 1 that starts with '# we import unnittest as usual' has the following                       errors\n",
      " tmp.py:5:1: E302 expected 2 blank lines, found 1\n",
      "tmp.py:7:1: W293 blank line contains whitespace\n",
      "tmp.py:11:35: E231 missing whitespace after ','\n",
      "tmp.py:12:40: E231 missing whitespace after ','\n",
      "tmp.py:13:1: W293 blank line contains whitespace\n",
      "tmp.py:17:35: E231 missing whitespace after ','\n",
      "tmp.py:19:1: W293 blank line contains whitespace\n",
      "tmp.py:21:1: E305 expected 2 blank lines after class or function definition, found 1\n",
      "tmp.py:22:59: E251 unexpected spaces around keyword / parameter equals\n",
      "tmp.py:22:61: E251 unexpected spaces around keyword / parameter equals\n",
      "\n",
      "Code Cell 2 that starts with '# here is a second really awful calculator to demonstrate doctest' has the following                       errors\n",
      " tmp.py:3:1: E302 expected 2 blank lines, found 1\n",
      "tmp.py:4:1: W293 blank line contains whitespace\n",
      "tmp.py:5:17: E211 whitespace before '('\n",
      "tmp.py:8:1: W293 blank line contains whitespace\n",
      "tmp.py:10:74: W291 trailing whitespace\n",
      "tmp.py:11:1: W293 blank line contains whitespace\n",
      "tmp.py:19:1: W293 blank line contains whitespace\n",
      "tmp.py:21:74: W291 trailing whitespace\n",
      "tmp.py:22:1: W293 blank line contains whitespace\n",
      "tmp.py:28:53: E225 missing whitespace around operator\n",
      "tmp.py:30:1: W293 blank line contains whitespace\n",
      "tmp.py:31:1: E305 expected 2 blank lines after class or function definition, found 1\n",
      "tmp.py:31:31: E231 missing whitespace after ','\n",
      "tmp.py:31:34: W291 trailing whitespace\n",
      "\n",
      "Code Cell 4 that starts with '# running nblint ' has the following                       errors\n",
      " tmp.py:1:17: W291 trailing whitespace\n",
      "tmp.py:2:7: E231 missing whitespace after ':'\n",
      "tmp.py:2:80: E501 line too long (80 > 79 characters)\n",
      "\n",
      "Code Cell 5 that starts with '# running nblint with pyflakes' has the following                       errors\n",
      " tmp.py:2:7: E231 missing whitespace after ':'\n",
      "tmp.py:2:60: E225 missing whitespace around operator\n",
      "tmp.py:2:80: E501 line too long (98 > 79 characters)\n",
      "\n",
      "Code Cell 6 that starts with '%%time' has the following                       errors\n",
      " tmp.py:1:2: E228 missing whitespace around modulo operator\n",
      "\n",
      "Code Cell 7 that starts with '%%timeit' has the following                       errors\n",
      " tmp.py:1:2: E228 missing whitespace around modulo operator\n",
      "\n",
      "Code Cell 9 that starts with 'import sys' has the following                       errors\n",
      " tmp.py:8:62: W291 trailing whitespace\n",
      "\n",
      "Code Cell 10 that starts with '' has the following                       errors\n",
      " tmp.py:1:1: W391 blank line at end of file\n",
      "\n"
     ]
    }
   ],
   "source": [
    "# running nblint \n",
    "%run C:/Users/Justin/Anaconda3/envs/theano/Scripts/nblint Testing_Notebook.ipynb"
   ]
  },
  {
   "cell_type": "markdown",
   "metadata": {},
   "source": [
    "By default <b>nblint</b> uses pycodestyle as its linting engine, but it can optionally use the much more laconic pyflakes linter. Unfortunately pylint and other linters are not supported.\n",
    "\n",
    "Here is how to run <b>nblint</b> with pycodestyle as the engine: "
   ]
  },
  {
   "cell_type": "code",
   "execution_count": 6,
   "metadata": {},
   "outputs": [
    {
     "name": "stdout",
     "output_type": "stream",
     "text": [
      "Code Cell 10 that starts with '' has the following flake8                  errors\n",
      " tmp.py:82:1: invalid syntax\r\n",
      "%run C:/Users/Justin/Anaconda3/envs/theano/Scripts/nblint Testing_Notebook.ipynb\r\n",
      "^\r\n",
      "\n"
     ]
    }
   ],
   "source": [
    "# running nblint with pyflakes\n",
    "%run C:/Users/Justin/Anaconda3/envs/theano/Scripts/nblint --linter pyflakes Testing_Notebook.ipynb"
   ]
  },
  {
   "cell_type": "markdown",
   "metadata": {},
   "source": [
    "## Timing\n",
    "\n",
    "we might also want to time our code to check its efficiency. This can easily be done in Juypter using two of its magic timing functions <b>%%time</b> and <b>%%timeit</b>. <b>%%time</b> will give you the time for a single run of your code, while <b>%%timeit</b> runs the code a large number of times and gives you the mean of the fastest of 3 runs. Both magic functions pertain only to the cell in which they occur\n",
    "\n",
    "Note that if you want to make full use of the timeit modules more advanced options you will still need to import it and use it as usual. also you can use <b>%timeit</b> with a single % sign to time a single line of code"
   ]
  },
  {
   "cell_type": "code",
   "execution_count": 7,
   "metadata": {},
   "outputs": [
    {
     "name": "stdout",
     "output_type": "stream",
     "text": [
      "Wall time: 41.9 ms\n"
     ]
    }
   ],
   "source": [
    "%%time\n",
    "for i in range(100000):\n",
    "    i = i**3"
   ]
  },
  {
   "cell_type": "code",
   "execution_count": 8,
   "metadata": {},
   "outputs": [
    {
     "name": "stdout",
     "output_type": "stream",
     "text": [
      "34.5 ms ± 341 µs per loop (mean ± std. dev. of 7 runs, 10 loops each)\n"
     ]
    }
   ],
   "source": [
    "%%timeit\n",
    "for i in range(100000):\n",
    "    i = i**3"
   ]
  },
  {
   "cell_type": "code",
   "execution_count": 9,
   "metadata": {},
   "outputs": [
    {
     "name": "stdout",
     "output_type": "stream",
     "text": [
      "36.4 ms ± 321 µs per loop (mean ± std. dev. of 7 runs, 10 loops each)\n"
     ]
    }
   ],
   "source": [
    "%timeit L = [i ** 3 for i in range(100000)]"
   ]
  },
  {
   "cell_type": "markdown",
   "metadata": {},
   "source": [
    "## Memory Usage\n",
    "\n",
    "Finally we may want to examine memory usage. to do so the following code snippet is useful."
   ]
  },
  {
   "cell_type": "code",
   "execution_count": 11,
   "metadata": {},
   "outputs": [
    {
     "data": {
      "text/plain": [
       "[('BaseLinter', 1304),\n",
       " ('TestBadCalculator', 1304),\n",
       " ('BadCalculator', 1016),\n",
       " ('OtherCalculator', 1016),\n",
       " ('commands', 480),\n",
       " ('nb', 304),\n",
       " ('code_cells', 192),\n",
       " ('variables', 112),\n",
       " ('linter', 75),\n",
       " ('args', 56),\n",
       " ('calc', 56),\n",
       " ('other_calc', 56),\n",
       " ('parser', 56),\n",
       " ('i', 32)]"
      ]
     },
     "execution_count": 11,
     "metadata": {},
     "output_type": "execute_result"
    }
   ],
   "source": [
    "import sys\n",
    "\n",
    "# These are the usual ipython objects, including this one you are creating\n",
    "variables = ['In', 'Out', 'exit', 'quit', 'get_ipython', 'variables']\n",
    "\n",
    "# Get a sorted list of the objects and their sizes\n",
    "sorted([(x, sys.getsizeof(globals().get(x))) for x in dir()\n",
    "        if not x.startswith('_') and x not in sys.modules and \n",
    "        x not in ipython_vars], key=lambda x: x[1], reverse=True)"
   ]
  },
  {
   "cell_type": "markdown",
   "metadata": {},
   "source": [
    "# Useful Resources\n",
    "\n",
    "Using unittest in Jupyter:\n",
    "https://medium.com/@vladbezden/using-python-unittest-in-ipython-or-jupyter-732448724e31\n",
    "\n",
    "Information about testing options:\n",
    "https://docs.python-guide.org/writing/tests/\n",
    "https://pymotw.com/2/doctest/\n",
    "https://pymotw.com/2/unittest/\n",
    "\n",
    "nblint project:\n",
    "https://github.com/alexandercbooth/nblint\n",
    "\n",
    "General Jupyter hints:\n",
    "https://www.dataquest.io/blog/jupyter-notebook-tips-tricks-shortcuts/\n",
    "\n",
    "Timeit documentation:\n",
    "https://docs.python.org/2/library/timeit.html\n",
    "\n",
    "Memory usage code snippet for Jupyter:\n",
    "https://stackoverflow.com/questions/40993626/list-memory-usage-in-ipython-and-jupyter"
   ]
  },
  {
   "cell_type": "markdown",
   "metadata": {},
   "source": [
    "https://towardsdatascience.com/5-reasons-why-jupyter-notebooks-suck-4dc201e27086\n",
    "\n",
    "https://medium.com/@kindofluke/cant-address-all-of-these-but-there-were-two-things-that-we-used-in-our-workflow-that-improved-bbc95193ed6d"
   ]
  },
  {
   "cell_type": "code",
   "execution_count": null,
   "metadata": {},
   "outputs": [],
   "source": []
  }
 ],
 "metadata": {
  "kernelspec": {
   "display_name": "theano",
   "language": "python",
   "name": "theano"
  },
  "language_info": {
   "codemirror_mode": {
    "name": "ipython",
    "version": 3
   },
   "file_extension": ".py",
   "mimetype": "text/x-python",
   "name": "python",
   "nbconvert_exporter": "python",
   "pygments_lexer": "ipython3",
   "version": "3.5.6"
  }
 },
 "nbformat": 4,
 "nbformat_minor": 2
}
